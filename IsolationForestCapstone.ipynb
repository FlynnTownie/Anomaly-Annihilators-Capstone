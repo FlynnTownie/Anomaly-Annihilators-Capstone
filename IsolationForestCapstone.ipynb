{
  "nbformat": 4,
  "nbformat_minor": 0,
  "metadata": {
    "colab": {
      "provenance": [],
      "authorship_tag": "ABX9TyMK37ErdIA6wrEB8TvYQLIy",
      "include_colab_link": true
    },
    "kernelspec": {
      "name": "python3",
      "display_name": "Python 3"
    },
    "language_info": {
      "name": "python"
    }
  },
  "cells": [
    {
      "cell_type": "markdown",
      "metadata": {
        "id": "view-in-github",
        "colab_type": "text"
      },
      "source": [
        "<a href=\"https://colab.research.google.com/github/FlynnTownie/Anomaly-Annihilators-Capstone/blob/main/IsolationForestCapstone.ipynb\" target=\"_parent\"><img src=\"https://colab.research.google.com/assets/colab-badge.svg\" alt=\"Open In Colab\"/></a>"
      ]
    },
    {
      "cell_type": "code",
      "source": [
        "\n",
        "import re\n",
        "import numpy as np\n",
        "import pandas as pd\n",
        "from sklearn.model_selection import train_test_split\n",
        "from sklearn.compose import ColumnTransformer\n",
        "from sklearn.preprocessing import OneHotEncoder, StandardScaler\n",
        "from sklearn.ensemble import IsolationForest\n",
        "from sklearn.metrics import accuracy_score, precision_score, recall_score, f1_score, confusion_matrix, classification_report\n",
        "\n",
        "\n",
        "# 1\n",
        "\n",
        "def load_conn_fix_tail(path):\n",
        "    raw = pd.read_csv(path, sep=\"\\t\", comment=\"#\", header=None, engine=\"python\", dtype=str, keep_default_na=False)\n",
        "    raw = raw.dropna(axis=1, how=\"all\")\n",
        "\n",
        "    core_cols = ['ts','uid','id.orig_h','id.orig_p','id.resp_h','id.resp_p',\n",
        "                 'proto','service','duration','orig_bytes','resp_bytes',\n",
        "                 'conn_state','local_orig','local_resp','missed_bytes','history',\n",
        "                 'orig_pkts','orig_ip_bytes','resp_pkts','resp_ip_bytes']\n",
        "\n",
        "    if raw.shape[1] < 21:\n",
        "        for _ in range(21 - raw.shape[1]):\n",
        "            raw[raw.shape[1]] = \"\"\n",
        "    last_col = raw.iloc[:, 20:].astype(str).apply(lambda r: \"\\t\".join(r.tolist()), axis=1)\n",
        "    first_part = raw.iloc[:, :20].copy()\n",
        "    first_part.columns = core_cols\n",
        "\n",
        "    tail = last_col.str.replace(\"\\t\", \" \", regex=False).str.replace(r\"\\s+\", \" \", regex=True).str.strip()\n",
        "\n",
        "    tail = tail.str.replace(r\"^- ?\", \"\", regex=True)\n",
        "\n",
        "    def split_tail(s):\n",
        "        if not s:\n",
        "            return \"-\", \"\", \"\"\n",
        "        parts = s.split(\" \")\n",
        "        if len(parts) == 1:\n",
        "            return \"-\", parts[0], \"\"\n",
        "        cand = parts[1].lower()\n",
        "        looks_label = any(k in cand for k in [\"benign\",\"malicious\",\"attack\",\"c&c\",\"normal\",\"background\",\"clean\"])\n",
        "        if looks_label:\n",
        "            tp = parts[0]\n",
        "            lab = parts[1]\n",
        "            dlab = \" \".join(parts[2:]) if len(parts) > 2 else \"\"\n",
        "            return tp, lab, dlab\n",
        "        tp = \"-\"\n",
        "        lab = parts[0]\n",
        "        dlab = \" \".join(parts[1:]) if len(parts) > 1 else \"\"\n",
        "        return tp, lab, dlab\n",
        "\n",
        "    tp_lab = tail.apply(split_tail)\n",
        "    tp_lab_df = pd.DataFrame(tp_lab.tolist(), columns=[\"tunnel_parents\",\"label\",\"detailed-label\"])\n",
        "\n",
        "    df = pd.concat([first_part.reset_index(drop=True), tp_lab_df.reset_index(drop=True)], axis=1)\n",
        "    return df\n",
        "\n",
        "df = load_conn_fix_tail(\"/content/conn.log.labeled\")\n",
        "print(\"Columns:\", df.columns.tolist()[:25])\n",
        "print(df[[\"tunnel_parents\",\"label\",\"detailed-label\"]].head(8))\n",
        "\n"
      ],
      "metadata": {
        "colab": {
          "base_uri": "https://localhost:8080/"
        },
        "id": "sAoA_ISLDnxE",
        "outputId": "8e7cac2d-3a76-4f54-cda3-da562cef877c"
      },
      "execution_count": 206,
      "outputs": [
        {
          "output_type": "stream",
          "name": "stdout",
          "text": [
            "Columns: ['ts', 'uid', 'id.orig_h', 'id.orig_p', 'id.resp_h', 'id.resp_p', 'proto', 'service', 'duration', 'orig_bytes', 'resp_bytes', 'conn_state', 'local_orig', 'local_resp', 'missed_bytes', 'history', 'orig_pkts', 'orig_ip_bytes', 'resp_pkts', 'resp_ip_bytes', 'tunnel_parents', 'label', 'detailed-label']\n",
            "  tunnel_parents             label detailed-label\n",
            "0      Malicious  C&C-FileDownload               \n",
            "1      Malicious               C&C               \n",
            "2      Malicious               C&C               \n",
            "3      Malicious               C&C               \n",
            "4      Malicious  C&C-FileDownload               \n",
            "5      Malicious  C&C-FileDownload               \n",
            "6      Malicious               C&C               \n",
            "7      Malicious               C&C               \n"
          ]
        }
      ]
    },
    {
      "cell_type": "code",
      "source": [
        "# label selection + mapping\n",
        "lab  = df.get(\"label\", pd.Series([\"\"]*len(df))).fillna(\"\").str.strip()\n",
        "dlab = df.get(\"detailed-label\", pd.Series([\"\"]*len(df))).fillna(\"\").str.strip()\n",
        "\n",
        "def informative(series: pd.Series) -> pd.Series:\n",
        "    return ~series.str.lower().isin([\"\", \"-\", \"(empty)\"])\n",
        "\n",
        "src = np.where(informative(lab), lab,\n",
        "               np.where(informative(dlab), dlab, \"\"))\n",
        "\n",
        "def map_label_str(x: str):\n",
        "    s = str(x).strip().lower()\n",
        "    if s in {\"\", \"-\", \"(empty)\"}: return np.nan\n",
        "    if any(k in s for k in [\"benign\",\"normal\",\"background\",\"clean\"]): return 0\n",
        "    if any(k in s for k in [\"malicious\",\"attack\",\"c&c\",\"botnet\"]):  return 1\n",
        "    if s.isdigit(): return 1 if int(s) != 0 else 0\n",
        "    return np.nan\n",
        "\n",
        "y = pd.Series(src).map(map_label_str)\n",
        "df = df.assign(label_bin=y).dropna(subset=[\"label_bin\"])\n",
        "y  = df[\"label_bin\"].astype(int)\n",
        "\n",
        "print(\"Class distribution after mapping:\", y.value_counts().to_dict())\n"
      ],
      "metadata": {
        "colab": {
          "base_uri": "https://localhost:8080/"
        },
        "id": "O1Rqk74VDnH3",
        "outputId": "628c225a-0cff-424f-a437-6ec3bc74d6a8"
      },
      "execution_count": 207,
      "outputs": [
        {
          "output_type": "stream",
          "name": "stdout",
          "text": [
            "Class distribution after mapping: {0: 211, 1: 26}\n"
          ]
        }
      ]
    },
    {
      "cell_type": "code",
      "source": [
        "\n",
        "# 3 Features & preprocessing\n",
        "\n",
        "X = df.drop(columns=[\"label_bin\",\"label\",\"detailed-label\"])\n",
        "\n",
        "\n",
        "for c in [\"ts\",\"uid\",\"tunnel_parents\"]:\n",
        "    if c in X.columns:\n",
        "        X = X.drop(columns=[c])\n",
        "\n",
        "\n",
        "for c in X.columns:\n",
        "    if X[c].dtype == object:\n",
        "        try:\n",
        "            X[c] = pd.to_numeric(X[c])\n",
        "        except Exception:\n",
        "            pass\n",
        "\n",
        "\n",
        "cat_cols = [c for c in X.columns if X[c].dtype == object]\n",
        "num_cols = [c for c in X.columns if c not in cat_cols]\n",
        "\n",
        "pre = ColumnTransformer([\n",
        "    (\"num\", StandardScaler(), num_cols),\n",
        "    (\"cat\", OneHotEncoder(handle_unknown=\"ignore\"), cat_cols)\n",
        "])\n",
        "\n",
        "X_train, X_test, y_train, y_test = train_test_split(\n",
        "    X, y, test_size=0.25, random_state=42, stratify=y\n",
        ")\n",
        "\n",
        "X_train_t = pre.fit_transform(X_train)\n",
        "X_test_t  = pre.transform(X_test)\n",
        "\n"
      ],
      "metadata": {
        "id": "Y1b7gqz-Dvqx"
      },
      "execution_count": 208,
      "outputs": []
    },
    {
      "cell_type": "code",
      "source": [
        "import numpy as np\n",
        "from sklearn.ensemble import IsolationForest\n",
        "from sklearn.model_selection import StratifiedShuffleSplit\n",
        "from sklearn.metrics import f1_score, precision_score, recall_score, accuracy_score, confusion_matrix, classification_report\n",
        "\n",
        "rng = 42  # lock randomness everywhere\n",
        "\n",
        "# Split train into train/val\n",
        "sss = StratifiedShuffleSplit(n_splits=1, test_size=0.25, random_state=rng)\n",
        "(train_idx, val_idx), = sss.split(X_train_t, y_train)\n",
        "\n",
        "X_tr_sub, X_val = X_train_t[train_idx], X_train_t[val_idx]\n",
        "y_tr_sub, y_val = y_train.iloc[train_idx], y_train.iloc[val_idx]\n",
        "\n",
        "\n",
        "# Train IF on NORMALS only if available, else on all\n",
        "norm_mask = (y_tr_sub.values == 0)\n",
        "if norm_mask.any():\n",
        "    X_fit = X_tr_sub[norm_mask]\n",
        "    contam_guess = max(0.01, min(0.49, (y_tr_sub == 1).mean()))\n",
        "else:\n",
        "    X_fit = X_tr_sub\n",
        "    contam_guess = max(0.10, min(0.49, (y_tr_sub == 1).mean() or 0.30))\n",
        "\n",
        "iso = IsolationForest(\n",
        "    n_estimators=300,\n",
        "    contamination=contam_guess,  # starting point; real cutoff will come from threshold search\n",
        "    random_state=rng,\n",
        "    n_jobs=-1\n",
        ").fit(X_fit)\n",
        "\n",
        "# Tune the decision threshold on validation to maximise F1\n",
        "val_scores = iso.decision_function(X_val)  # higher = more normal\n",
        "\n",
        "percentiles = np.linspace(1, 40, 80)\n",
        "best = (-1, None)  # (F1, threshold)\n",
        "for p in percentiles:\n",
        "    thr = np.percentile(val_scores, p)\n",
        "    y_val_pred = (val_scores < thr).astype(int)  # 1 = anomaly\n",
        "    f1 = f1_score(y_val, y_val_pred, zero_division=0)\n",
        "    if f1 > best[0]:\n",
        "        best = (f1, thr)\n",
        "\n",
        "best_thr = best[1]\n",
        "print(f\"[IF] Tuned threshold on val: F1={best[0]:.3f}, thr={best_thr:.5f}, contam_guess={contam_guess:.3f}\")\n",
        "\n",
        "\n",
        "# final eval\n",
        "test_scores = iso.decision_function(X_test_t)\n",
        "y_pred_if = (test_scores < best_thr).astype(int)\n",
        "\n",
        "acc  = accuracy_score(y_test, y_pred_if)\n",
        "prec = precision_score(y_test, y_pred_if, zero_division=0)\n",
        "rec  = recall_score(y_test, y_pred_if, zero_division=0)\n",
        "f1   = f1_score(y_test, y_pred_if, zero_division=0)\n",
        "cm   = confusion_matrix(y_test, y_pred_if)\n",
        "\n",
        "print(f\"\\n[IsolationForest] Test metrics\")\n",
        "print(f\"Accuracy : {acc:.4f}\")\n",
        "print(f\"Precision: {prec:.4f}\")\n",
        "print(f\"Recall   : {rec:.4f}\")\n",
        "print(f\"F1-score : {f1:.4f}\")\n",
        "print(\"Confusion [[TN FP]\\n           [FN TP]]:\\n\", cm)\n",
        "print(\"\\nReport:\\n\", classification_report(y_test, y_pred_if, digits=4))\n"
      ],
      "metadata": {
        "colab": {
          "base_uri": "https://localhost:8080/"
        },
        "id": "HRAQlGWHUmwk",
        "outputId": "afad1728-edf4-44ce-feab-4873f7bd98be"
      },
      "execution_count": 209,
      "outputs": [
        {
          "output_type": "stream",
          "name": "stdout",
          "text": [
            "[IF] Tuned threshold on val: F1=1.000, thr=-0.00972, contam_guess=0.106\n",
            "\n",
            "[IsolationForest] Test metrics\n",
            "Accuracy : 0.9667\n",
            "Precision: 0.8571\n",
            "Recall   : 0.8571\n",
            "F1-score : 0.8571\n",
            "Confusion [[TN FP]\n",
            "           [FN TP]]:\n",
            " [[52  1]\n",
            " [ 1  6]]\n",
            "\n",
            "Report:\n",
            "               precision    recall  f1-score   support\n",
            "\n",
            "           0     0.9811    0.9811    0.9811        53\n",
            "           1     0.8571    0.8571    0.8571         7\n",
            "\n",
            "    accuracy                         0.9667        60\n",
            "   macro avg     0.9191    0.9191    0.9191        60\n",
            "weighted avg     0.9667    0.9667    0.9667        60\n",
            "\n"
          ]
        }
      ]
    },
    {
      "cell_type": "code",
      "source": [
        "from sklearn.ensemble import IsolationForest\n",
        "import numpy as np\n",
        "\n",
        "n_norm_train = int((y_train == 0).sum())\n",
        "n_anom_train = int((y_train == 1).sum())\n",
        "print(f\"[Train] normals: {n_norm_train}, anomalies: {n_anom_train}\")\n",
        "\n",
        "if n_norm_train > 0:\n",
        "    X_fit = X_train_t[y_train.values == 0]\n",
        "    est_contam = max(0.01, min(0.49, (y_train == 1).mean()))\n",
        "    print(f\"Training on NORMAL-only, contamination={est_contam:.3f}\")\n",
        "else:\n",
        "    X_fit = X_train_t\n",
        "    est_contam = max(0.10, min(0.49, (y_train == 1).mean() or 0.30))\n",
        "    print(f\"No normals. Training on ALL, contamination={est_contam:.2f}\")\n",
        "\n",
        "iso = IsolationForest(\n",
        "    n_estimators=300,\n",
        "    contamination=est_contam,\n",
        "    random_state=42,\n",
        "    n_jobs=-1\n",
        ").fit(X_fit)\n",
        "\n",
        "scores = iso.decision_function(X_test_t)\n",
        "k = max(1, int(round(est_contam * len(scores))))\n",
        "thr = np.partition(scores, k-1)[k-1]\n",
        "y_pred = (scores < thr).astype(int)\n"
      ],
      "metadata": {
        "colab": {
          "base_uri": "https://localhost:8080/"
        },
        "id": "2hW2yV8UNTgB",
        "outputId": "b00dd322-191b-4e00-c15b-35ba808ee8a4"
      },
      "execution_count": 210,
      "outputs": [
        {
          "output_type": "stream",
          "name": "stdout",
          "text": [
            "[Train] normals: 158, anomalies: 19\n",
            "Training on NORMAL-only, contamination=0.107\n"
          ]
        }
      ]
    },
    {
      "cell_type": "markdown",
      "source": [
        "Just testing rando forest as well, might not be as refined as isolation"
      ],
      "metadata": {
        "id": "dpnKQI72We8n"
      }
    },
    {
      "cell_type": "code",
      "source": [
        "from sklearn.ensemble import RandomForestClassifier\n",
        "\n",
        "rf = RandomForestClassifier(\n",
        "    n_estimators=300,\n",
        "    random_state=rng,\n",
        "    n_jobs=-1,\n",
        "    class_weight=\"balanced\"\n",
        ").fit(X_train_t, y_train)\n",
        "\n",
        "y_pred_rf = rf.predict(X_test_t)\n"
      ],
      "metadata": {
        "id": "1GO5Xv_fEpU5"
      },
      "execution_count": 211,
      "outputs": []
    },
    {
      "cell_type": "markdown",
      "source": [
        "Random forest metrics are probably inflated, a bigger data set would probs greatly lower the scores and Iso forest would score higher\n"
      ],
      "metadata": {
        "id": "bnF6p1X_Vu8v"
      }
    },
    {
      "cell_type": "code",
      "source": [
        "import pandas as pd\n",
        "import matplotlib.pyplot as plt\n",
        "import numpy as np\n",
        "\n",
        "def evaluate_model(name, y_true, y_pred):\n",
        "    return {\n",
        "        \"Model\": name,\n",
        "        \"Accuracy\": accuracy_score(y_true, y_pred),\n",
        "        \"Precision\": precision_score(y_true, y_pred, zero_division=0),\n",
        "        \"Recall\": recall_score(y_true, y_pred, zero_division=0),\n",
        "        \"F1-Score\": f1_score(y_true, y_pred, zero_division=0)\n",
        "    }\n",
        "\n",
        "df_results = pd.DataFrame([\n",
        "    evaluate_model(\"Isolation Forest (unsupervised)\", y_test, y_pred_if),\n",
        "    evaluate_model(\"Random Forest (supervised)\",    y_test, y_pred_rf)\n",
        "])\n",
        "\n",
        "\n",
        "print(df_results.round(3))\n",
        "\n",
        "# Bar chart\n",
        "metrics = [\"Accuracy\",\"Precision\",\"Recall\",\"F1-Score\"]\n",
        "x = np.arange(len(metrics)); width = 0.38\n",
        "fig, ax = plt.subplots(figsize=(8,5))\n",
        "ax.bar(x - width/2, df_results.loc[0, metrics], width, label=df_results.loc[0, \"Model\"])\n",
        "ax.bar(x + width/2, df_results.loc[1, metrics], width, label=df_results.loc[1, \"Model\"])\n",
        "ax.set_ylabel(\"Score\")\n",
        "ax.set_title(\"Isolation Forest vs Random Forest (Test Set)\")\n",
        "ax.set_xticks(x); ax.set_xticklabels(metrics)\n",
        "ax.set_ylim(0, 1.05); ax.legend()\n",
        "plt.tight_layout()\n",
        "\n",
        "plt.savefig(\"if_vs_rf.png\", dpi=200)\n",
        "plt.show()\n"
      ],
      "metadata": {
        "colab": {
          "base_uri": "https://localhost:8080/",
          "height": 559
        },
        "id": "lmFKXMU6Vew5",
        "outputId": "dcd36aee-9f59-40a1-e254-6f4a58240575"
      },
      "execution_count": 212,
      "outputs": [
        {
          "output_type": "stream",
          "name": "stdout",
          "text": [
            "                             Model  Accuracy  Precision  Recall  F1-Score\n",
            "0  Isolation Forest (unsupervised)     0.967      0.857   0.857     0.857\n",
            "1       Random Forest (supervised)     0.983      1.000   0.857     0.923\n"
          ]
        },
        {
          "output_type": "display_data",
          "data": {
            "text/plain": [
              "<Figure size 800x500 with 1 Axes>"
            ],
            "image/png": "[encoded data removed]"
          },
          "metadata": {}
        }
      ]
    }
  ]
}