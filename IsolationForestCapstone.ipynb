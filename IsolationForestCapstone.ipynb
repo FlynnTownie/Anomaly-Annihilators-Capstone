{
  "nbformat": 4,
  "nbformat_minor": 0,
  "metadata": {
    "colab": {
      "provenance": [],
      "authorship_tag": "ABX9TyMfAAPDBDJFxqHMoBw6PY+G",
      "include_colab_link": true
    },
    "kernelspec": {
      "name": "python3",
      "display_name": "Python 3"
    },
    "language_info": {
      "name": "python"
    }
  },
  "cells": [
    {
      "cell_type": "markdown",
      "metadata": {
        "id": "view-in-github",
        "colab_type": "text"
      },
      "source": [
        "<a href=\"https://colab.research.google.com/github/FlynnTownie/Anomaly-Annihilators-Capstone/blob/main/IsolationForestCapstone.ipynb\" target=\"_parent\"><img src=\"https://colab.research.google.com/assets/colab-badge.svg\" alt=\"Open In Colab\"/></a>"
      ]
    },
    {
      "cell_type": "code",
      "source": [
        "\n",
        "import re\n",
        "import numpy as np\n",
        "import pandas as pd\n",
        "from sklearn.model_selection import train_test_split\n",
        "from sklearn.compose import ColumnTransformer\n",
        "from sklearn.preprocessing import OneHotEncoder, StandardScaler\n",
        "from sklearn.ensemble import IsolationForest\n",
        "from sklearn.metrics import accuracy_score, precision_score, recall_score, f1_score, confusion_matrix, classification_report\n",
        "\n",
        "\n",
        "# 1\n",
        "\n",
        "def load_conn_fix_tail(path):\n",
        "    raw = pd.read_csv(path, sep=\"\\t\", comment=\"#\", header=None, engine=\"python\", dtype=str, keep_default_na=False)\n",
        "    raw = raw.dropna(axis=1, how=\"all\")\n",
        "\n",
        "    core_cols = ['ts','uid','id.orig_h','id.orig_p','id.resp_h','id.resp_p',\n",
        "                 'proto','service','duration','orig_bytes','resp_bytes',\n",
        "                 'conn_state','local_orig','local_resp','missed_bytes','history',\n",
        "                 'orig_pkts','orig_ip_bytes','resp_pkts','resp_ip_bytes']\n",
        "\n",
        "    if raw.shape[1] < 21:\n",
        "        for _ in range(21 - raw.shape[1]):\n",
        "            raw[raw.shape[1]] = \"\"\n",
        "    last_col = raw.iloc[:, 20:].astype(str).apply(lambda r: \"\\t\".join(r.tolist()), axis=1)\n",
        "    first_part = raw.iloc[:, :20].copy()\n",
        "    first_part.columns = core_cols\n",
        "\n",
        "    tail = last_col.str.replace(\"\\t\", \" \", regex=False).str.replace(r\"\\s+\", \" \", regex=True).str.strip()\n",
        "\n",
        "    tail = tail.str.replace(r\"^- ?\", \"\", regex=True)\n",
        "\n",
        "    def split_tail(s):\n",
        "        if not s:\n",
        "            return \"-\", \"\", \"\"\n",
        "        parts = s.split(\" \")\n",
        "        if len(parts) == 1:\n",
        "            return \"-\", parts[0], \"\"\n",
        "        cand = parts[1].lower()\n",
        "        looks_label = any(k in cand for k in [\"benign\",\"malicious\",\"attack\",\"c&c\",\"normal\",\"background\",\"clean\"])\n",
        "        if looks_label:\n",
        "            tp = parts[0]\n",
        "            lab = parts[1]\n",
        "            dlab = \" \".join(parts[2:]) if len(parts) > 2 else \"\"\n",
        "            return tp, lab, dlab\n",
        "        tp = \"-\"\n",
        "        lab = parts[0]\n",
        "        dlab = \" \".join(parts[1:]) if len(parts) > 1 else \"\"\n",
        "        return tp, lab, dlab\n",
        "\n",
        "    tp_lab = tail.apply(split_tail)\n",
        "    tp_lab_df = pd.DataFrame(tp_lab.tolist(), columns=[\"tunnel_parents\",\"label\",\"detailed-label\"])\n",
        "\n",
        "    df = pd.concat([first_part.reset_index(drop=True), tp_lab_df.reset_index(drop=True)], axis=1)\n",
        "    return df\n",
        "\n",
        "df = load_conn_fix_tail(\"/content/conn.log.labeled\")\n",
        "print(\"Columns:\", df.columns.tolist()[:25])\n",
        "print(df[[\"tunnel_parents\",\"label\",\"detailed-label\"]].head(8))\n",
        "\n"
      ],
      "metadata": {
        "colab": {
          "base_uri": "https://localhost:8080/"
        },
        "id": "sAoA_ISLDnxE",
        "outputId": "5e7ce46b-d528-4eb2-98c0-bc965669d7a4"
      },
      "execution_count": 152,
      "outputs": [
        {
          "output_type": "stream",
          "name": "stdout",
          "text": [
            "Columns: ['ts', 'uid', 'id.orig_h', 'id.orig_p', 'id.resp_h', 'id.resp_p', 'proto', 'service', 'duration', 'orig_bytes', 'resp_bytes', 'conn_state', 'local_orig', 'local_resp', 'missed_bytes', 'history', 'orig_pkts', 'orig_ip_bytes', 'resp_pkts', 'resp_ip_bytes', 'tunnel_parents', 'label', 'detailed-label']\n",
            "  tunnel_parents             label detailed-label\n",
            "0      Malicious  C&C-FileDownload               \n",
            "1      Malicious               C&C               \n",
            "2      Malicious               C&C               \n",
            "3      Malicious               C&C               \n",
            "4      Malicious  C&C-FileDownload               \n",
            "5      Malicious  C&C-FileDownload               \n",
            "6      Malicious               C&C               \n",
            "7      Malicious               C&C               \n"
          ]
        }
      ]
    },
    {
      "cell_type": "code",
      "source": [
        "# label selection + mapping\n",
        "lab  = df.get(\"label\", pd.Series([\"\"]*len(df))).fillna(\"\").str.strip()\n",
        "dlab = df.get(\"detailed-label\", pd.Series([\"\"]*len(df))).fillna(\"\").str.strip()\n",
        "\n",
        "def informative(series: pd.Series) -> pd.Series:\n",
        "    return ~series.str.lower().isin([\"\", \"-\", \"(empty)\"])\n",
        "\n",
        "src = np.where(informative(lab), lab,\n",
        "               np.where(informative(dlab), dlab, \"\"))\n",
        "\n",
        "def map_label_str(x: str):\n",
        "    s = str(x).strip().lower()\n",
        "    if s in {\"\", \"-\", \"(empty)\"}: return np.nan\n",
        "    if any(k in s for k in [\"benign\",\"normal\",\"background\",\"clean\"]): return 0\n",
        "    if any(k in s for k in [\"malicious\",\"attack\",\"c&c\",\"botnet\"]):  return 1\n",
        "    if s.isdigit(): return 1 if int(s) != 0 else 0\n",
        "    return np.nan\n",
        "\n",
        "y = pd.Series(src).map(map_label_str)\n",
        "df = df.assign(label_bin=y).dropna(subset=[\"label_bin\"])\n",
        "y  = df[\"label_bin\"].astype(int)\n",
        "\n",
        "print(\"Class distribution after mapping:\", y.value_counts().to_dict())\n"
      ],
      "metadata": {
        "colab": {
          "base_uri": "https://localhost:8080/"
        },
        "id": "O1Rqk74VDnH3",
        "outputId": "18ec9122-61f5-475d-f9c0-85aa2a082a3a"
      },
      "execution_count": 153,
      "outputs": [
        {
          "output_type": "stream",
          "name": "stdout",
          "text": [
            "Class distribution after mapping: {0: 211, 1: 26}\n"
          ]
        }
      ]
    },
    {
      "cell_type": "code",
      "source": [
        "\n",
        "# 3 Features & preprocessing\n",
        "\n",
        "X = df.drop(columns=[\"label_bin\",\"label\",\"detailed-label\"])\n",
        "\n",
        "\n",
        "for c in [\"ts\",\"uid\",\"tunnel_parents\"]:\n",
        "    if c in X.columns:\n",
        "        X = X.drop(columns=[c])\n",
        "\n",
        "\n",
        "for c in X.columns:\n",
        "    if X[c].dtype == object:\n",
        "        try:\n",
        "            X[c] = pd.to_numeric(X[c])\n",
        "        except Exception:\n",
        "            pass\n",
        "\n",
        "\n",
        "cat_cols = [c for c in X.columns if X[c].dtype == object]\n",
        "num_cols = [c for c in X.columns if c not in cat_cols]\n",
        "\n",
        "pre = ColumnTransformer([\n",
        "    (\"num\", StandardScaler(), num_cols),\n",
        "    (\"cat\", OneHotEncoder(handle_unknown=\"ignore\"), cat_cols)\n",
        "])\n",
        "\n",
        "X_train, X_test, y_train, y_test = train_test_split(\n",
        "    X, y, test_size=0.25, random_state=42, stratify=y\n",
        ")\n",
        "\n",
        "X_train_t = pre.fit_transform(X_train)\n",
        "X_test_t  = pre.transform(X_test)\n",
        "\n"
      ],
      "metadata": {
        "id": "Y1b7gqz-Dvqx"
      },
      "execution_count": 154,
      "outputs": []
    },
    {
      "cell_type": "code",
      "source": [
        "from sklearn.ensemble import IsolationForest\n",
        "import numpy as np\n",
        "\n",
        "n_norm_train = int((y_train == 0).sum())\n",
        "n_anom_train = int((y_train == 1).sum())\n",
        "print(f\"[Train] normals: {n_norm_train}, anomalies: {n_anom_train}\")\n",
        "\n",
        "if n_norm_train > 0:\n",
        "    X_fit = X_train_t[y_train.values == 0]\n",
        "    est_contam = max(0.01, min(0.49, (y_train == 1).mean()))\n",
        "    print(f\"Training on NORMAL-only, contamination={est_contam:.3f}\")\n",
        "else:\n",
        "    X_fit = X_train_t\n",
        "    est_contam = max(0.10, min(0.49, (y_train == 1).mean() or 0.30))\n",
        "    print(f\"No normals. Training on ALL, contamination={est_contam:.2f}\")\n",
        "\n",
        "iso = IsolationForest(\n",
        "    n_estimators=300,\n",
        "    contamination=est_contam,\n",
        "    random_state=42,\n",
        "    n_jobs=-1\n",
        ").fit(X_fit)\n",
        "\n",
        "scores = iso.decision_function(X_test_t)\n",
        "k = max(1, int(round(est_contam * len(scores))))\n",
        "thr = np.partition(scores, k-1)[k-1]\n",
        "y_pred = (scores < thr).astype(int)\n"
      ],
      "metadata": {
        "colab": {
          "base_uri": "https://localhost:8080/"
        },
        "id": "2hW2yV8UNTgB",
        "outputId": "ceabbf80-dcdb-4dc0-c511-5665ca5af3f9"
      },
      "execution_count": 155,
      "outputs": [
        {
          "output_type": "stream",
          "name": "stdout",
          "text": [
            "[Train] normals: 158, anomalies: 19\n",
            "Training on NORMAL-only, contamination=0.107\n"
          ]
        }
      ]
    },
    {
      "cell_type": "code",
      "source": [
        "# 5 Metrics\n",
        "\n",
        "acc  = accuracy_score(y_test, y_pred)\n",
        "prec = precision_score(y_test, y_pred, zero_division=0)\n",
        "rec  = recall_score(y_test, y_pred, zero_division=0)\n",
        "f1   = f1_score(y_test, y_pred, zero_division=0)\n",
        "cm   = confusion_matrix(y_test, y_pred)\n",
        "\n",
        "print(f\"Accuracy : {acc:.4f}\")\n",
        "print(f\"Precision: {prec:.4f}\")\n",
        "print(f\"Recall   : {rec:.4f}\")\n",
        "print(f\"F1-score : {f1:.4f}\\n\")\n",
        "print(\"Confusion Matrix [[TN FP]\\n                  [FN TP]]:\\n\", cm)\n",
        "print(\"\\nClassification report:\\n\", classification_report(y_test, y_pred, digits=4))\n"
      ],
      "metadata": {
        "colab": {
          "base_uri": "https://localhost:8080/"
        },
        "id": "BsixIBkKD1Ij",
        "outputId": "570f85b7-750a-4d7f-8e1d-bab673541d77"
      },
      "execution_count": 156,
      "outputs": [
        {
          "output_type": "stream",
          "name": "stdout",
          "text": [
            "Accuracy : 0.8833\n",
            "Precision: 0.5000\n",
            "Recall   : 0.1429\n",
            "F1-score : 0.2222\n",
            "\n",
            "Confusion Matrix [[TN FP]\n",
            "                  [FN TP]]:\n",
            " [[52  1]\n",
            " [ 6  1]]\n",
            "\n",
            "Classification report:\n",
            "               precision    recall  f1-score   support\n",
            "\n",
            "           0     0.8966    0.9811    0.9369        53\n",
            "           1     0.5000    0.1429    0.2222         7\n",
            "\n",
            "    accuracy                         0.8833        60\n",
            "   macro avg     0.6983    0.5620    0.5796        60\n",
            "weighted avg     0.8503    0.8833    0.8536        60\n",
            "\n"
          ]
        }
      ]
    },
    {
      "cell_type": "code",
      "source": [
        "from sklearn.ensemble import RandomForestClassifier\n",
        "rf = RandomForestClassifier(n_estimators=300, random_state=42, n_jobs=-1, class_weight=\"balanced\")\n",
        "rf.fit(X_train_t, y_train)\n",
        "rf_pred = rf.predict(X_test_t)\n",
        "\n",
        "print(\"\\n[RandomForest] Supervised baseline\")\n",
        "print(\"Accuracy :\", accuracy_score(y_test, rf_pred))\n",
        "print(\"Precision:\", precision_score(y_test, rf_pred, zero_division=0))\n",
        "print(\"Recall   :\", recall_score(y_test, rf_pred, zero_division=0))\n",
        "print(\"F1-score :\", f1_score(y_test, rf_pred, zero_division=0))\n",
        "print(\"Confusion:\\n\", confusion_matrix(y_test, rf_pred))\n"
      ],
      "metadata": {
        "colab": {
          "base_uri": "https://localhost:8080/"
        },
        "id": "1GO5Xv_fEpU5",
        "outputId": "b505c5b0-9f4c-45c0-b874-7578c4e66a68"
      },
      "execution_count": 157,
      "outputs": [
        {
          "output_type": "stream",
          "name": "stdout",
          "text": [
            "\n",
            "[RandomForest] Supervised baseline\n",
            "Accuracy : 0.9833333333333333\n",
            "Precision: 1.0\n",
            "Recall   : 0.8571428571428571\n",
            "F1-score : 0.9230769230769231\n",
            "Confusion:\n",
            " [[53  0]\n",
            " [ 1  6]]\n"
          ]
        }
      ]
    },
    {
      "cell_type": "code",
      "source": [
        "import pandas as pd\n",
        "from sklearn.metrics import accuracy_score, precision_score, recall_score, f1_score\n",
        "\n",
        "def evaluate_model(name, y_true, y_pred):\n",
        "    return {\n",
        "        \"Model\": name,\n",
        "        \"Accuracy\": round(accuracy_score(y_true, y_pred), 2),\n",
        "        \"Precision\": round(precision_score(y_true, y_pred, zero_division=0), 2),\n",
        "        \"Recall\": round(recall_score(y_true, y_pred, zero_division=0), 2),\n",
        "        \"F1-Score\": round(f1_score(y_true, y_pred, zero_division=0), 2)\n",
        "    }\n",
        "\n",
        "results = []\n",
        "\n",
        "results.append(evaluate_model(\"Isolation Forest (unsupervised)\", y_test, y_pred))\n",
        "\n",
        "# Random Forest (supervised model)\n",
        "results.append(evaluate_model(\"Random Forest (supervised)\", y_test, rf_pred))\n",
        "\n",
        "\n",
        "df_results = pd.DataFrame(results)\n",
        "print(df_results)\n",
        "\n",
        "\n",
        "df_results.to_csv(\"model_comparison.csv\", index=False)\n"
      ],
      "metadata": {
        "colab": {
          "base_uri": "https://localhost:8080/"
        },
        "id": "YKJRQfwyO-Mn",
        "outputId": "6ae5fcbd-ef0f-4242-9cf3-beb761f31d4d"
      },
      "execution_count": 158,
      "outputs": [
        {
          "output_type": "stream",
          "name": "stdout",
          "text": [
            "                             Model  Accuracy  Precision  Recall  F1-Score\n",
            "0  Isolation Forest (unsupervised)      0.88        0.5    0.14      0.22\n",
            "1       Random Forest (supervised)      0.98        1.0    0.86      0.92\n"
          ]
        }
      ]
    },
    {
      "cell_type": "code",
      "source": [
        "import matplotlib.pyplot as plt\n",
        "\n",
        "metrics = [\"Accuracy\", \"Precision\", \"Recall\", \"F1-Score\"]\n",
        "\n",
        "x = np.arange(len(metrics))\n",
        "width = 0.35\n",
        "\n",
        "fig, ax = plt.subplots(figsize=(8,5))\n",
        "\n",
        "ax.bar(x - width/2, df_results.iloc[0,1:], width, label=df_results.iloc[0,0])  # Isolation Forest row\n",
        "ax.bar(x + width/2, df_results.iloc[1,1:], width, label=df_results.iloc[1,0])  # Random Forest row\n",
        "\n",
        "ax.set_ylabel(\"Score\")\n",
        "ax.set_title(\"Isolation Forest vs Random Forest Performance\")\n",
        "ax.set_xticks(x)\n",
        "ax.set_xticklabels(metrics)\n",
        "ax.set_ylim(0,1.1)\n",
        "ax.legend()\n",
        "\n",
        "plt.show()\n"
      ],
      "metadata": {
        "colab": {
          "base_uri": "https://localhost:8080/",
          "height": 468
        },
        "id": "x7SiN4ArPNq3",
        "outputId": "fef91f4b-a4db-4ca2-fe19-bd144823a972"
      },
      "execution_count": 159,
      "outputs": [
        {
          "output_type": "display_data",
          "data": {
            "text/plain": [
              "<Figure size 800x500 with 1 Axes>"
            ],
            "image/png": "[encoded data removed]"
          },
          "metadata": {}
        }
      ]
    },
    {
      "cell_type": "markdown",
      "source": [],
      "metadata": {
        "id": "j2z3Jau4Dd8O"
      }
    },
    {
      "cell_type": "markdown",
      "source": [],
      "metadata": {
        "id": "Rs85_zjKBGBA"
      }
    },
    {
      "cell_type": "markdown",
      "source": [],
      "metadata": {
        "id": "iYI7qFKdBGSY"
      }
    }
  ]
}